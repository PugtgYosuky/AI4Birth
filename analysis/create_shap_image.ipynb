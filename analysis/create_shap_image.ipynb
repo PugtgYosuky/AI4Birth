{
 "cells": [
  {
   "cell_type": "code",
   "execution_count": null,
   "metadata": {},
   "outputs": [],
   "source": [
    "import shap\n",
    "import pandas as pd\n",
    "import os\n",
    "import matplotlib.pyplot as plt\n",
    "import seaborn as sns\n",
    "import json\n",
    "import numpy as np\n",
    "plt.rcParams['savefig.dpi'] = 500\n",
    "# set xticks fontsize\n",
    "plt.rcParams['xtick.labelsize'] = 18\n",
    "# set yticks fontsize\n",
    "plt.rcParams['ytick.labelsize'] = 20\n",
    "# set labels fontsize\n",
    "plt.rcParams['axes.labelsize'] = 22\n",
    "# set legend fontsize\n",
    "plt.rcParams['legend.fontsize'] = 12\n",
    "# set labels weight to bold\n",
    "plt.rcParams['figure.figsize'] = (12, 12)"
   ]
  },
  {
   "cell_type": "code",
   "execution_count": null,
   "metadata": {},
   "outputs": [],
   "source": [
    "shap_df = pd.read_csv('../tests/shap//CV-PT/Logistic_regression_avg_all_seeds_shap_df.csv')\n",
    "shap_values = pd.read_csv('../tests/shap/CV-PT/Logistic_regression_avg_all_seeds_shap_values.csv')"
   ]
  },
  {
   "cell_type": "code",
   "execution_count": null,
   "metadata": {},
   "outputs": [],
   "source": [
    "features_names = pd.read_csv('../data/metadata/features_name.csv')"
   ]
  },
  {
   "cell_type": "code",
   "execution_count": null,
   "metadata": {},
   "outputs": [],
   "source": [
    "features_map = dict(zip(features_names['Original'], features_names['Final']))"
   ]
  },
  {
   "cell_type": "code",
   "execution_count": null,
   "metadata": {},
   "outputs": [],
   "source": [
    "shap_values = shap_values.rename(columns=features_map)\n",
    "shap_df = shap_df.rename(columns=features_map)"
   ]
  },
  {
   "cell_type": "code",
   "execution_count": null,
   "metadata": {},
   "outputs": [],
   "source": [
    "negative_x = (int(shap_values.min().min())-1) / 2 -0.5\n",
    "positive_x = (int(shap_values.max().max())+1) / 2 -0.5"
   ]
  },
  {
   "cell_type": "code",
   "execution_count": null,
   "metadata": {},
   "outputs": [],
   "source": [
    "shap.summary_plot(shap_values.values, shap_df, show=False,max_display=15)\n",
    "# annote the image to have \"VD\" in the center os the negative x-axis values\n",
    "plt.text(negative_x, -2.5, 'VD', fontsize=22, color='black', fontdict={'weight': 'bold'})\n",
    "# annote the image to have \"CS\" in the center os the positive x-axis values\n",
    "plt.text(positive_x, -2.5, 'CS', fontsize=22, color='black', fontdict={'weight': 'bold'})\n",
    "plt.xlabel('')\n",
    "# yticks in bold\n",
    "plt.yticks(fontweight='bold')\n",
    "plt.savefig('../images/shap_values_plot_final_avg_30seeds.png', bbox_inches='tight')\n",
    "plt.savefig('../images/shap_values_plot_final_avg_30seeds.eps', bbox_inches='tight')\n",
    "plt.savefig('../images/shap_values_plot_final_avg_30seeds.pdf', bbox_inches='tight')\n",
    "plt.savefig('../images/shap_values_plot_final_avg_30seeds.svg', bbox_inches='tight')\n",
    "plt.show()"
   ]
  }
 ],
 "metadata": {
  "kernelspec": {
   "display_name": "deliveries",
   "language": "python",
   "name": "python3"
  },
  "language_info": {
   "codemirror_mode": {
    "name": "ipython",
    "version": 3
   },
   "file_extension": ".py",
   "mimetype": "text/x-python",
   "name": "python",
   "nbconvert_exporter": "python",
   "pygments_lexer": "ipython3",
   "version": "3.9.18"
  }
 },
 "nbformat": 4,
 "nbformat_minor": 2
}
