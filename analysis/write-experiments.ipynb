{
 "cells": [
  {
   "cell_type": "markdown",
   "metadata": {},
   "source": [
    "# Analyze experiments\n",
    "\n",
    "Analyses the results achieved on a single experiment."
   ]
  },
  {
   "cell_type": "code",
   "execution_count": null,
   "metadata": {},
   "outputs": [],
   "source": [
    "import pandas as pd\n",
    "import numpy as np\n",
    "import json\n",
    "import os\n",
    "from openpyxl import load_workbook"
   ]
  },
  {
   "cell_type": "code",
   "execution_count": null,
   "metadata": {},
   "outputs": [],
   "source": [
    "legend = pd.read_csv('../data/results/legend.csv', sep=';')"
   ]
  },
  {
   "cell_type": "code",
   "execution_count": null,
   "metadata": {},
   "outputs": [],
   "source": [
    "experiments = [\n",
    "    # all features\n",
    "    '../tests/test1/cv-PT',\n",
    "    '../tests/test1/train-PT-test-US',\n",
    "    # reduced features\n",
    "    '../tests/test1/cv-PT-reduced-13',\n",
    "    '../tests/test1/train-PT-test-US-reduced-13',    \n",
    "    ]"
   ]
  },
  {
   "cell_type": "code",
   "execution_count": null,
   "metadata": {},
   "outputs": [],
   "source": [
    "output_file = '../data/results/results.xlsx'"
   ]
  },
  {
   "cell_type": "code",
   "execution_count": null,
   "metadata": {},
   "outputs": [],
   "source": [
    "def write_experiment(experiment_path, writer, dataframes):\n",
    "    test_file = experiment_path.split('tests/')[1].replace('/', '-')\n",
    "    results = {}\n",
    "    if os.path.exists(experiment_path):\n",
    "        for run_number, run in enumerate(os.listdir(experiment_path)):\n",
    "            try:\n",
    "                with open(os.path.join(experiment_path, run, 'results.json')) as f:\n",
    "                    results[run_number] = json.load(f)\n",
    "            except:\n",
    "                pass\n",
    "        results_models = list(results[run_number].keys())\n",
    "        results_metrics = list(results[run_number][results_models[0]].keys())\n",
    "        # initialize data structure\n",
    "        src_data = {}\n",
    "        data = {}\n",
    "        for model in results_models:\n",
    "            aux = {}\n",
    "            for metric in results_metrics:\n",
    "                aux[metric] = []\n",
    "            src_data[model] = aux\n",
    "            aux = {}\n",
    "            for metric in results_metrics:\n",
    "                aux[metric] = []\n",
    "            data[model] = aux\n",
    "        # extract data\n",
    "        for run in results:\n",
    "            for model in results_models:\n",
    "                for metric in results_metrics:\n",
    "                    src_data[model][metric] += results[run][model][metric]\n",
    "        # calculate mean and std\n",
    "        for model in results_models:\n",
    "            for metric in results_metrics:\n",
    "                data[model][metric] = np.mean(src_data[model][metric])\n",
    "                data[model][metric + '_std'] = np.std(src_data[model][metric])\n",
    "        df = pd.DataFrame(data).T\n",
    "        df.reset_index(inplace=True, names='model')\n",
    "        df.to_csv(f'../data/results/{test_file}.csv', index=False)\n",
    "        df.to_excel(writer, sheet_name=test_file, index=False)\n",
    "        df.insert(0, 'experiment', test_file)\n",
    "        dataframes.append(df)\n",
    "    else:\n",
    "        print(f'No results for {test_file}')"
   ]
  },
  {
   "cell_type": "code",
   "execution_count": null,
   "metadata": {},
   "outputs": [],
   "source": [
    "dataframes = []"
   ]
  },
  {
   "cell_type": "code",
   "execution_count": null,
   "metadata": {},
   "outputs": [],
   "source": [
    "with pd.ExcelWriter(output_file) as writer:\n",
    "    legend.to_excel(writer, sheet_name='Legend', index=False)\n",
    "    for experiment in experiments:\n",
    "        write_experiment(experiment, writer, dataframes)\n",
    "    geral_df = pd.concat(dataframes, ignore_index=True)\n",
    "    geral_df.to_csv('../data/results/geral.csv', index=False)\n",
    "    # insert at the beginning of the sheets\n",
    "    geral_df.to_excel(writer, sheet_name='Geral', index=False, )"
   ]
  },
  {
   "cell_type": "code",
   "execution_count": null,
   "metadata": {},
   "outputs": [],
   "source": [
    "wb = load_workbook(output_file)\n",
    "sheetnames = wb.sheetnames\n",
    "wb._sheets = [wb['Legend'], wb['Geral']] + [wb[sheet] for sheet in sheetnames if sheet not in ['Legend', 'Geral']]\n",
    "wb.save(output_file)"
   ]
  }
 ],
 "metadata": {
  "kernelspec": {
   "display_name": "deliveries",
   "language": "python",
   "name": "python3"
  },
  "language_info": {
   "codemirror_mode": {
    "name": "ipython",
    "version": 3
   },
   "file_extension": ".py",
   "mimetype": "text/x-python",
   "name": "python",
   "nbconvert_exporter": "python",
   "pygments_lexer": "ipython3",
   "version": "3.9.18"
  }
 },
 "nbformat": 4,
 "nbformat_minor": 2
}
