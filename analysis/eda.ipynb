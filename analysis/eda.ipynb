{
 "cells": [
  {
   "cell_type": "markdown",
   "metadata": {},
   "source": [
    "# Analyse data similarity and explore datasets"
   ]
  },
  {
   "cell_type": "code",
   "execution_count": null,
   "metadata": {},
   "outputs": [],
   "source": [
    "import pandas as pd"
   ]
  },
  {
   "cell_type": "code",
   "execution_count": null,
   "metadata": {},
   "outputs": [],
   "source": [
    "df_pt = pd.read_csv('../data/test1/PT_dataset_mapped.csv')\n",
    "df_us = pd.read_csv('../data/test1/US_dataset_mapped.csv')"
   ]
  },
  {
   "cell_type": "code",
   "execution_count": null,
   "metadata": {},
   "outputs": [],
   "source": [
    "df_us.loc[df_us.duplicated()]"
   ]
  },
  {
   "cell_type": "code",
   "execution_count": null,
   "metadata": {},
   "outputs": [],
   "source": [
    "df_pt.loc[df_pt.duplicated()]"
   ]
  },
  {
   "cell_type": "code",
   "execution_count": null,
   "metadata": {},
   "outputs": [],
   "source": [
    "df_pt.Class.value_counts(normalize=True)"
   ]
  },
  {
   "cell_type": "code",
   "execution_count": null,
   "metadata": {},
   "outputs": [],
   "source": [
    "df_us.Class.value_counts(normalize=True)"
   ]
  },
  {
   "cell_type": "code",
   "execution_count": null,
   "metadata": {},
   "outputs": [],
   "source": [
    "df_us.isnull().sum() / df_us.shape[1]"
   ]
  },
  {
   "cell_type": "code",
   "execution_count": null,
   "metadata": {},
   "outputs": [],
   "source": [
    "y_pt = df_pt.pop('Class')\n",
    "y_us = df_us.pop('Class')"
   ]
  },
  {
   "cell_type": "markdown",
   "metadata": {},
   "source": [
    "## Analyse statistics"
   ]
  },
  {
   "cell_type": "code",
   "execution_count": null,
   "metadata": {},
   "outputs": [],
   "source": [
    "numeric_cols = df_pt.columns[df_pt.nunique() > 2]"
   ]
  },
  {
   "cell_type": "code",
   "execution_count": null,
   "metadata": {},
   "outputs": [],
   "source": [
    "numeric_pt = df_pt[numeric_cols].describe()\n",
    "median_pt = df_pt[numeric_cols].median()\n",
    "median_pt.name = 'median'\n",
    "numeric_pt = pd.concat([numeric_pt, median_pt.to_frame().T])\n",
    "numeric_pt = numeric_pt.add_suffix('_PT')"
   ]
  },
  {
   "cell_type": "code",
   "execution_count": null,
   "metadata": {},
   "outputs": [],
   "source": [
    "numeric_us = df_us[numeric_cols].describe()\n",
    "median_us = df_us[numeric_cols].median()\n",
    "median_us.name = 'median'\n",
    "numeric_us = pd.concat([numeric_us, median_us.to_frame().T])\n",
    "numeric_us = numeric_us.add_suffix('_US')"
   ]
  },
  {
   "cell_type": "code",
   "execution_count": null,
   "metadata": {},
   "outputs": [],
   "source": [
    "numeric_features = pd.concat([numeric_pt, numeric_us], axis=1)\n",
    "# sort features in numeric_features dataframe\n",
    "numeric_features = numeric_features.reindex(sorted(numeric_features.columns), axis=1)\n",
    "numeric_features.T.to_csv('../data/test1/numeric_features_info.csv')"
   ]
  },
  {
   "cell_type": "code",
   "execution_count": null,
   "metadata": {},
   "outputs": [],
   "source": [
    "cat_features = [col for col in df_pt.columns if col not in numeric_cols]"
   ]
  },
  {
   "cell_type": "code",
   "execution_count": null,
   "metadata": {},
   "outputs": [],
   "source": [
    "pt_total = df_pt[cat_features].sum()\n",
    "pt_total.name = 'PT_total'\n",
    "pt_CS_class = df_pt.loc[y_pt == 1, cat_features].sum()\n",
    "pt_CS_class.name = 'PT_CS_class'\n",
    "pt_VD_class = df_pt.loc[y_pt == 0, cat_features].sum()\n",
    "pt_VD_class.name = 'PT_VD_class'\n",
    "us_total = df_us[cat_features].sum()\n",
    "us_total.name = 'US_total'\n",
    "us_CS_class = df_us.loc[y_us == 1, cat_features].sum()\n",
    "us_CS_class.name = 'US_CS_class'\n",
    "us_VD_class = df_us.loc[y_us == 0, cat_features].sum()\n",
    "us_VD_class.name = 'US_VD_class'"
   ]
  },
  {
   "cell_type": "code",
   "execution_count": null,
   "metadata": {},
   "outputs": [],
   "source": [
    "cat_features = pd.DataFrame([pt_total, us_total, pt_CS_class, us_CS_class, pt_VD_class, us_VD_class])"
   ]
  },
  {
   "cell_type": "code",
   "execution_count": null,
   "metadata": {},
   "outputs": [],
   "source": [
    "cat_features.T.to_csv('../data/test1/categorical_features_info.csv')"
   ]
  }
 ],
 "metadata": {
  "kernelspec": {
   "display_name": "deliveries",
   "language": "python",
   "name": "python3"
  },
  "language_info": {
   "codemirror_mode": {
    "name": "ipython",
    "version": 3
   },
   "file_extension": ".py",
   "mimetype": "text/x-python",
   "name": "python",
   "nbconvert_exporter": "python",
   "pygments_lexer": "ipython3",
   "version": "3.9.18"
  }
 },
 "nbformat": 4,
 "nbformat_minor": 2
}
