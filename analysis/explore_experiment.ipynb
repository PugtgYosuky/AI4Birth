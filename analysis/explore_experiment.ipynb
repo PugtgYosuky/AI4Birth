{
 "cells": [
  {
   "cell_type": "code",
   "execution_count": null,
   "metadata": {},
   "outputs": [],
   "source": [
    "import pandas as pd\n",
    "import os\n",
    "from utils import get_mean_results\n",
    "import numpy as np\n",
    "import matplotlib.pyplot as plt\n",
    "from dcurves import dca as decision_curve_analysis\n",
    "import matplotlib.pyplot as plt"
   ]
  },
  {
   "cell_type": "code",
   "execution_count": null,
   "metadata": {},
   "outputs": [],
   "source": [
    "plt.rcParams['savefig.dpi'] = 500\n",
    "# set xticks fontsize\n",
    "plt.rcParams['xtick.labelsize'] = 18\n",
    "# set yticks fontsize\n",
    "plt.rcParams['ytick.labelsize'] = 18\n",
    "# set labels fontsize\n",
    "plt.rcParams['axes.labelsize'] = 22\n",
    "# set legend fontsize\n",
    "plt.rcParams['legend.fontsize'] = 12\n",
    "# set labels weight to bold\n",
    "plt.rcParams['axes.labelweight'] = 'bold'\n",
    "plt.rcParams['figure.figsize'] = (10, 10)"
   ]
  },
  {
   "cell_type": "code",
   "execution_count": null,
   "metadata": {},
   "outputs": [],
   "source": [
    "thresholds = np.linspace(0, 1, 101)"
   ]
  },
  {
   "cell_type": "code",
   "execution_count": null,
   "metadata": {},
   "outputs": [],
   "source": [
    "path = {\n",
    "    '../tests/test1/train-PT-test-US' : 'All Features',\n",
    "    '../tests/test1/train-PT-test-US-reduced-13' : '13 Best Features',\n",
    "}\n",
    "save_name = 'train-PT-test-US-models'"
   ]
  },
  {
   "cell_type": "code",
   "execution_count": null,
   "metadata": {},
   "outputs": [],
   "source": [
    "def get_dca_values(path):\n",
    "    dca_values = {\n",
    "        'y_proba_1': [],\n",
    "        'all' : [],\n",
    "        'none' : [],\n",
    "        'thresholds' : []\n",
    "    }\n",
    "    for exp in os.listdir(path):\n",
    "        preds_path = os.path.join(path, exp, 'predictions')\n",
    "        for preds in [preds for preds in os.listdir(preds_path) if 'LogisticRegression' in preds]:\n",
    "            predictions = pd.read_csv(os.path.join(preds_path, preds))\n",
    "            dca_df = decision_curve_analysis(\n",
    "                data = predictions,\n",
    "                outcome = 'y_true',\n",
    "                modelnames = ['y_proba_1'],\n",
    "                thresholds = thresholds\n",
    "            )\n",
    "            # save values\n",
    "            for model in dca_df.model.unique():\n",
    "                dca_values[model].append(dca_df.loc[dca_df['model'] == model, 'net_benefit'].values)\n",
    "                dca_values['thresholds'].append(dca_df.loc[dca_df['model'] == model, 'threshold'].values)\n",
    "\n",
    "    for key, value in dca_values.items():\n",
    "        print(key)\n",
    "        dca_values[key] = np.mean(value, axis=0)\n",
    "    return dca_values"
   ]
  },
  {
   "cell_type": "code",
   "execution_count": null,
   "metadata": {},
   "outputs": [],
   "source": [
    "values = {}\n",
    "for path_dir, title in path.items():\n",
    "    dca_values = get_dca_values(path_dir)\n",
    "    values[title] = dca_values"
   ]
  },
  {
   "cell_type": "code",
   "execution_count": null,
   "metadata": {},
   "outputs": [],
   "source": [
    "names = {\n",
    "    'y_proba_1' : 'LR',\n",
    "    'all' : 'Treat as C-Section',\n",
    "    'none' : 'Treat as Vaginal Delivery'\n",
    "}"
   ]
  },
  {
   "cell_type": "code",
   "execution_count": null,
   "metadata": {},
   "outputs": [],
   "source": [
    "plt.figure(figsize=(10, 6))\n",
    "dca_values = list(values.values())[0]\n",
    "cmap = plt.get_cmap('Greys')\n",
    "plt.plot(dca_values['thresholds'], dca_values['all'], label=f'{names[\"all\"]}', linewidth=2, color=cmap(0.8))\n",
    "plt.plot(dca_values['thresholds'], dca_values['none'], label=f'{names[\"none\"]}', linewidth=2, color=cmap(0.6))\n",
    "# setup colors\n",
    "for title, dca_values in values.items():\n",
    "    plt.plot(dca_values['thresholds'], dca_values['y_proba_1'], label=f'{names[\"y_proba_1\"]} - {title}', linewidth=3)\n",
    "plt.xlabel('Threshold')\n",
    "plt.ylabel('Net Benefit')\n",
    "plt.xticks(np.linspace(0, 1, 11))\n",
    "plt.yticks(np.arange(-0.05, 0.35, 0.05))\n",
    "plt.ylim([-0.05, 0.35])\n",
    "plt.xlim([0, 1])\n",
    "plt.grid(linestyle='--', linewidth=1, alpha=0.7)\n",
    "plt.legend()\n",
    "plt.savefig(f'../images/dca_{save_name}.png', bbox_inches='tight')\n",
    "plt.savefig(f'../images/dca_{save_name}.svg', bbox_inches='tight')\n",
    "plt.savefig(f'../images/dca_{save_name}.pdf', bbox_inches='tight')\n",
    "plt.show()"
   ]
  }
 ],
 "metadata": {
  "kernelspec": {
   "display_name": "deliveries",
   "language": "python",
   "name": "python3"
  },
  "language_info": {
   "codemirror_mode": {
    "name": "ipython",
    "version": 3
   },
   "file_extension": ".py",
   "mimetype": "text/x-python",
   "name": "python",
   "nbconvert_exporter": "python",
   "pygments_lexer": "ipython3",
   "version": "3.9.18"
  }
 },
 "nbformat": 4,
 "nbformat_minor": 2
}
